{
 "cells": [
  {
   "cell_type": "code",
   "execution_count": null,
   "metadata": {},
   "outputs": [],
   "source": [
    "import json\n",
    "from sentence_transformers import SentenceTransformer, util\n",
    "\n",
    "categories = [\"Legal Status and Documentation\", \"Safety and Security\", \"Gender-Based Violence\", \"Employment\", \"Challenges Returning to Poland\", \"Visits to Ukraine\", \"Future Intentions\", \"Feedback and Reporting\", \"Information Needs\", \"Aid Received\", \"Social Media Hostility\", \"Polish Language Proficiency\",\n",
    "    \"Livelihood Coping Strategies\", \n",
    "    \"Living Arrangements\",\n",
    "    \"Living Conditions\",\n",
    "    \"Pressure to Leave Accommodation\",\n",
    "    \"School Enrollment\",\n",
    "    \"Barriers to Education\",\n",
    "    \"Remote Learning\",\n",
    "    \"Access to Healthcare\",\n",
    "    \"Mental Health Support\",\n",
    "    \"Barriers to MHPSS\",\n",
    "    \"Negative Attitudes from Host Communities\",\n",
    "    \"Perceived Reasons for Hostility\"]\n",
    "\n",
    "model = SentenceTransformer('all-mpnet-base-v2')\n",
    "category_embeddings = model.encode(categories) \n",
    "\n",
    "def category_sim_pairs(categories, similarities):\n",
    "    output = []\n",
    "    for index in range(len(categories)):\n",
    "        output.append( (categories[index], similarities[index]) )\n",
    "\n",
    "    output = sorted(output, key=lambda x: x[1], reverse=True)\n",
    "    return output\n",
    "\n",
    "\n",
    "with open('testembed.json', 'r', encoding='utf-8') as f:\n",
    "    data = json.load(f)\n",
    "\n",
    "for messages in data:\n",
    "    id = messages.get(\"id\")\n",
    "    translation = messages.get(\"TRANSLATION\", {})\n",
    "    translated_text = translation.get(\"Translated_Text\", '')\n",
    "\n",
    "    if not translated_text:\n",
    "        print(f\"Message ID {id} has no translated text. Skipping...\")\n",
    "        continue\n",
    "\n",
    "    # description -> vector\n",
    "    text_embedding = model.encode(translated_text)\n",
    "\n",
    "    # cosine sim (description, category)\n",
    "    similarities = util.cos_sim(text_embedding, category_embeddings)[0].tolist()\n",
    "    pairs = category_sim_pairs(categories, similarities)\n",
    "\n",
    "\n",
    "    print(f\"Title: {id}:\")\n",
    "    print(f\"  Description: {text}\")\n",
    "    print(f\"  Categories (closest to furthest):\")\n",
    "    for category, similarity in pairs:\n",
    "        print(f\"{category}: {similarity:.4f}\")\n",
    "    print(\"#\"*30)"
   ]
  },
  {
   "cell_type": "code",
   "execution_count": null,
   "metadata": {},
   "outputs": [],
   "source": []
  },
  {
   "cell_type": "code",
   "execution_count": null,
   "metadata": {},
   "outputs": [],
   "source": []
  },
  {
   "cell_type": "code",
   "execution_count": null,
   "metadata": {},
   "outputs": [],
   "source": []
  }
 ],
 "metadata": {
  "kernelspec": {
   "display_name": "Python 3.10.6 64-bit",
   "language": "python",
   "name": "python3"
  },
  "language_info": {
   "codemirror_mode": {
    "name": "ipython",
    "version": 3
   },
   "file_extension": ".py",
   "mimetype": "text/x-python",
   "name": "python",
   "nbconvert_exporter": "python",
   "pygments_lexer": "ipython3",
   "version": "3.10.6"
  },
  "orig_nbformat": 4,
  "vscode": {
   "interpreter": {
    "hash": "aee8b7b246df8f9039afb4144a1f6fd8d2ca17a180786b69acc140d282b71a49"
   }
  }
 },
 "nbformat": 4,
 "nbformat_minor": 2
}
